{
  "nbformat": 4,
  "nbformat_minor": 0,
  "metadata": {
    "colab": {
      "provenance": [],
      "toc_visible": true,
      "collapsed_sections": [
        "bIyBdRnz5nSM",
        "CrxYL_Dd5rHh",
        "BtbKSTt--Av2",
        "biPvHMjeAFrP",
        "SorqGiZqqrKm",
        "pTzRJVx7WKoE"
      ]
    },
    "kernelspec": {
      "name": "python3",
      "display_name": "Python 3"
    },
    "language_info": {
      "name": "python"
    }
  },
  "cells": [
    {
      "cell_type": "markdown",
      "source": [
        "## Imports"
      ],
      "metadata": {
        "id": "bIyBdRnz5nSM"
      }
    },
    {
      "cell_type": "code",
      "execution_count": 1,
      "metadata": {
        "id": "XiloaIPc4pr2"
      },
      "outputs": [],
      "source": [
        "import pandas as pd\n",
        "import numpy as np\n",
        "import re\n",
        "from datetime import datetime, timedelta\n",
        "from pandas.api.types import is_numeric_dtype"
      ]
    },
    {
      "cell_type": "code",
      "source": [
        "from google.colab import drive\n",
        "drive.mount('./drive')"
      ],
      "metadata": {
        "colab": {
          "base_uri": "https://localhost:8080/"
        },
        "id": "EXN_r_ta5z_Y",
        "outputId": "79b297fb-6534-4188-8272-8aa5ed78ca8b"
      },
      "execution_count": 2,
      "outputs": [
        {
          "output_type": "stream",
          "name": "stdout",
          "text": [
            "Mounted at ./drive\n"
          ]
        }
      ]
    },
    {
      "cell_type": "markdown",
      "source": [
        "## Dataset Import"
      ],
      "metadata": {
        "id": "CrxYL_Dd5rHh"
      }
    },
    {
      "cell_type": "code",
      "source": [
        "raw_h1b_df = pd.read_csv('./drive/Shareddrives/550/datasets/raw_data/h1b_data.csv')"
      ],
      "metadata": {
        "id": "8Pq5iB3w5qcl"
      },
      "execution_count": null,
      "outputs": []
    },
    {
      "cell_type": "code",
      "source": [
        "raw_company_reviews_df = pd.read_csv('./drive/Shareddrives/550/datasets/raw_data/company_reviews.csv')"
      ],
      "metadata": {
        "id": "1kOqAVbE-yvv"
      },
      "execution_count": null,
      "outputs": []
    },
    {
      "cell_type": "code",
      "source": [
        "raw_h1b_df.columns"
      ],
      "metadata": {
        "id": "IJR3JOgBPnQI"
      },
      "execution_count": null,
      "outputs": []
    },
    {
      "cell_type": "code",
      "source": [
        "raw_company_reviews_df.columns"
      ],
      "metadata": {
        "id": "m3dABCUAPoUV"
      },
      "execution_count": null,
      "outputs": []
    },
    {
      "cell_type": "markdown",
      "source": [
        "# EDA"
      ],
      "metadata": {
        "id": "a3qXtagsFVsM"
      }
    },
    {
      "cell_type": "markdown",
      "source": [
        "### Drop unused Columns"
      ],
      "metadata": {
        "id": "BtbKSTt--Av2"
      }
    },
    {
      "cell_type": "markdown",
      "source": [
        "Identify the columns that are not used for our purpose and can be dropped."
      ],
      "metadata": {
        "id": "igs4stN4RJ75"
      }
    },
    {
      "cell_type": "code",
      "source": [
        "company_drop = ['ceo_approval', 'ceo_count', 'roles', 'salary', \n",
        "                'interview_count', 'headquarters', 'revenue', 'website']"
      ],
      "metadata": {
        "id": "2wgn0-wnQuSG"
      },
      "execution_count": null,
      "outputs": []
    },
    {
      "cell_type": "code",
      "source": [
        "h1b_drop = ['emp_zip', 'emp_country', 'soc_code', 'soc_name',\n",
        "            'prevailing_wage', 'pw_unit', 'pw_level', 'wage_to',\n",
        "            'wage_unit', 'work_city', 'work_state', 'emp_h1b_dependent',\n",
        "            'emp_willful_violator', 'lat', 'lng']"
      ],
      "metadata": {
        "id": "7LRiBQFtP2z1"
      },
      "execution_count": null,
      "outputs": []
    },
    {
      "cell_type": "code",
      "source": [
        "raw_h1b_filtered_df = raw_h1b_df.drop(h1b_drop, axis=1)"
      ],
      "metadata": {
        "id": "YGCS0qwTRnQv"
      },
      "execution_count": null,
      "outputs": []
    },
    {
      "cell_type": "code",
      "source": [
        "raw_company_reviews_filtered_df = raw_company_reviews_df.drop(company_drop, axis=1)"
      ],
      "metadata": {
        "id": "_u2_Rnv0RYg7"
      },
      "execution_count": null,
      "outputs": []
    },
    {
      "cell_type": "markdown",
      "source": [
        "### EDA helper functions"
      ],
      "metadata": {
        "id": "biPvHMjeAFrP"
      }
    },
    {
      "cell_type": "code",
      "source": [
        "# Analyze the NULL value percentage in dataset\n",
        "def NullPercentage(df):\n",
        "  print(\"Dataset NULL value percentage.\")\n",
        "  print(df.apply(lambda col : col.isnull().sum()/len(col)))\n",
        "  print(\"\\n\")"
      ],
      "metadata": {
        "id": "upDx1ONW_bBQ"
      },
      "execution_count": null,
      "outputs": []
    },
    {
      "cell_type": "code",
      "source": [
        "def CompanyNameCleanup(name):\n",
        "  ret = name.lower().replace(\", inc.\", \"\").replace(\",inc.\", \"\").replace(\", inc\", \"\").replace(\" inc.\", \"\").replace(\",inc\", \"\").replace(\" inc\", \"\")\n",
        "  ret = ret.replace(\", llp.\", \"\").replace(\",llp.\", \"\").replace(\", llp\", \"\").replace(\" llp.\", \"\").replace(\",llp\", \"\").replace(\" llp\", \"\")\n",
        "  ret = ret.replace(\", llc.\", \"\").replace(\",llc.\", \"\").replace(\", llc\", \"\").replace(\" llc.\", \"\").replace(\",llc\", \"\").replace(\" llc\", \"\")\n",
        "  return ret"
      ],
      "metadata": {
        "id": "uT40C5WT_lJH"
      },
      "execution_count": null,
      "outputs": []
    },
    {
      "cell_type": "markdown",
      "source": [
        "### H1-B Database EDA"
      ],
      "metadata": {
        "id": "iLxbY1h7q_v_"
      }
    },
    {
      "cell_type": "code",
      "source": [
        "NullPercentage(raw_h1b_filtered_df)"
      ],
      "metadata": {
        "id": "lqE0EFHFdPT1"
      },
      "execution_count": null,
      "outputs": []
    },
    {
      "cell_type": "markdown",
      "source": [
        "##### EDA analysis\n",
        "As all fields in the H1-B database are important for the purpose of our study, we need to drop entries that have at least one fields being NULL"
      ],
      "metadata": {
        "id": "SorqGiZqqrKm"
      }
    },
    {
      "cell_type": "code",
      "source": [
        "h1b_df = raw_h1b_filtered_df.dropna()"
      ],
      "metadata": {
        "id": "Mpvz8tn0dnbL"
      },
      "execution_count": null,
      "outputs": []
    },
    {
      "cell_type": "code",
      "source": [
        "NullPercentage(h1b_df)"
      ],
      "metadata": {
        "id": "1rZMw3w9q5gu"
      },
      "execution_count": null,
      "outputs": []
    },
    {
      "cell_type": "code",
      "source": [
        "h1b_df.dtypes"
      ],
      "metadata": {
        "id": "L7NUiiBZdMok"
      },
      "execution_count": null,
      "outputs": []
    },
    {
      "cell_type": "markdown",
      "source": [
        "Size of the H1B data after dropping NULL values is:"
      ],
      "metadata": {
        "id": "Txeoi3a_rG8o"
      }
    },
    {
      "cell_type": "code",
      "source": [
        "len(h1b_df)"
      ],
      "metadata": {
        "id": "0J992mVVq9sr"
      },
      "execution_count": null,
      "outputs": []
    },
    {
      "cell_type": "markdown",
      "source": [
        "##### Process and Cleanup String Values"
      ],
      "metadata": {
        "id": "qUUCyKimk2np"
      }
    },
    {
      "cell_type": "markdown",
      "source": [
        "**full_time_position** field"
      ],
      "metadata": {
        "id": "QjgDo-HV9ozM"
      }
    },
    {
      "cell_type": "markdown",
      "source": [
        "We will modify the `full_time_position` field to be boolean for easier query later"
      ],
      "metadata": {
        "id": "477V8pBQ9JKP"
      }
    },
    {
      "cell_type": "code",
      "source": [
        "h1b_df.loc[:, 'full_time_position'] = h1b_df['full_time_position'].apply(lambda x : True if x == 'Y' else False)"
      ],
      "metadata": {
        "id": "dI2i3ZRW9I1X"
      },
      "execution_count": null,
      "outputs": []
    },
    {
      "cell_type": "markdown",
      "source": [
        "**emp_name** field"
      ],
      "metadata": {
        "id": "uvwvUFaS9s79"
      }
    },
    {
      "cell_type": "code",
      "source": [
        "h1b_df['emp_name'].unique"
      ],
      "metadata": {
        "id": "-IoloaB8kzgW"
      },
      "execution_count": null,
      "outputs": []
    },
    {
      "cell_type": "code",
      "source": [
        "h1b_df[h1b_df['emp_name'] == 'zionsville maria montessori international acad..']['emp_name'] = 'zionsville maria montessori international academy'"
      ],
      "metadata": {
        "id": "YeAs-Cqx2Gb-"
      },
      "execution_count": null,
      "outputs": []
    },
    {
      "cell_type": "code",
      "source": [
        "h1b_df.loc[:, 'emp_name'] = h1b_df['emp_name'].apply(lambda x : CompanyNameCleanup(x))"
      ],
      "metadata": {
        "id": "YIBpYhxg_6js"
      },
      "execution_count": null,
      "outputs": []
    },
    {
      "cell_type": "code",
      "source": [
        "# h1b_filtered_df['emp_name'] = h1b_filtered_df['emp_name'].apply(lambda x : x.lower())\n",
        "# h1b_filtered_df['emp_name'] = h1b_filtered_df['emp_name'].apply(lambda x : x.replace(\", inc.\", \" inc\"))\n",
        "# h1b_filtered_df['emp_name'] = h1b_filtered_df['emp_name'].apply(lambda x : x.replace(\", llp\", \" llp\"))\n",
        "# h1b_filtered_df['emp_name'] = h1b_filtered_df['emp_name'].apply(lambda x : x.replace(\", llc\", \" llc\"))"
      ],
      "metadata": {
        "id": "ZTtdn9hGluKL"
      },
      "execution_count": null,
      "outputs": []
    },
    {
      "cell_type": "code",
      "source": [
        "h1b_df.info()"
      ],
      "metadata": {
        "id": "401YyA3RGLZS"
      },
      "execution_count": null,
      "outputs": []
    },
    {
      "cell_type": "markdown",
      "source": [
        "**emp_city** field"
      ],
      "metadata": {
        "id": "cKgPC0N593ip"
      }
    },
    {
      "cell_type": "code",
      "source": [
        "h1b_df['emp_city'].unique"
      ],
      "metadata": {
        "id": "njlDJ6JU95r-"
      },
      "execution_count": null,
      "outputs": []
    },
    {
      "cell_type": "code",
      "source": [
        "h1b_df.loc[:, 'emp_city'] = h1b_df['emp_city'].apply(lambda x : x.lower())"
      ],
      "metadata": {
        "id": "BxaGQxST97rP"
      },
      "execution_count": null,
      "outputs": []
    },
    {
      "cell_type": "markdown",
      "source": [
        "**job_title** field"
      ],
      "metadata": {
        "id": "190pUY1u3N-g"
      }
    },
    {
      "cell_type": "code",
      "source": [
        "h1b_df.loc[:, 'job_title'] = h1b_df['job_title'].apply(lambda x : str(x).lower())"
      ],
      "metadata": {
        "id": "of0myC9i3Qds"
      },
      "execution_count": null,
      "outputs": []
    },
    {
      "cell_type": "code",
      "source": [
        "h1b_df.info()"
      ],
      "metadata": {
        "id": "tk7ollfVZG9E"
      },
      "execution_count": null,
      "outputs": []
    },
    {
      "cell_type": "markdown",
      "source": [
        "### Company Reviews Database EDA"
      ],
      "metadata": {
        "id": "d12nIe4_rLN8"
      }
    },
    {
      "cell_type": "code",
      "source": [
        "NullPercentage(raw_company_reviews_filtered_df)"
      ],
      "metadata": {
        "id": "cJEJ6DjydU2T"
      },
      "execution_count": null,
      "outputs": []
    },
    {
      "cell_type": "markdown",
      "source": [
        "##### EDA analysis\n",
        "We noticed that there are multiple fields having NULL values. Attributes such as `name`, `rating` are important values for our analysis, and entries with these fields being NULL values should be dropped. On the other hand, fields such as `reviews`(reviews breakdown), `description`(text reviews), interview related stats, `employees`(number of employees), and `industry` are good-to-have values that will improve how informative our analysis would be, and it is ok for them to be NULL for certain companies. "
      ],
      "metadata": {
        "id": "msAXNyYfrT_B"
      }
    },
    {
      "cell_type": "code",
      "source": [
        "company_reviews_df = raw_company_reviews_filtered_df.dropna(subset=['name', 'rating'])"
      ],
      "metadata": {
        "id": "_KMRwihurTxE"
      },
      "execution_count": null,
      "outputs": []
    },
    {
      "cell_type": "markdown",
      "source": [
        "Size of company review data after dropping NULL value is: "
      ],
      "metadata": {
        "id": "gKc9eXRIdBgv"
      }
    },
    {
      "cell_type": "code",
      "source": [
        "len(company_reviews_df)"
      ],
      "metadata": {
        "id": "1ZXg_dPAdFc9"
      },
      "execution_count": null,
      "outputs": []
    },
    {
      "cell_type": "markdown",
      "source": [
        "##### Process and Cleanup String Values"
      ],
      "metadata": {
        "id": "bQ1_j9-m-Z46"
      }
    },
    {
      "cell_type": "markdown",
      "source": [
        "###### name"
      ],
      "metadata": {
        "id": "YbZdg4a1p_Ku"
      }
    },
    {
      "cell_type": "code",
      "source": [
        "company_reviews_df['name'].unique()"
      ],
      "metadata": {
        "id": "1b37jOaJ-itz"
      },
      "execution_count": null,
      "outputs": []
    },
    {
      "cell_type": "code",
      "source": [
        "company_reviews_df.loc[:, 'name'] = company_reviews_df['name'].apply(lambda x : CompanyNameCleanup(x))"
      ],
      "metadata": {
        "id": "E_Do19wz_woK"
      },
      "execution_count": null,
      "outputs": []
    },
    {
      "cell_type": "code",
      "source": [
        "company_reviews_df['name'].unique()"
      ],
      "metadata": {
        "id": "Rl2wgyzt_eB1"
      },
      "execution_count": null,
      "outputs": []
    },
    {
      "cell_type": "markdown",
      "source": [
        "##### industry"
      ],
      "metadata": {
        "id": "Nj_GWL65qBBJ"
      }
    },
    {
      "cell_type": "code",
      "source": [
        "company_reviews_df['industry'].unique()"
      ],
      "metadata": {
        "id": "TkHza5tEp8q5"
      },
      "execution_count": null,
      "outputs": []
    },
    {
      "cell_type": "code",
      "source": [
        "\"Restaurants, Travel and Leisure\\nRestaurants\".replace('\\n', '/')"
      ],
      "metadata": {
        "id": "belJTMmiqo0-"
      },
      "execution_count": null,
      "outputs": []
    },
    {
      "cell_type": "code",
      "source": [
        "company_reviews_df.loc[:, 'industry'] = company_reviews_df['industry'].apply(lambda x : str(x).replace('\\n', '/'))"
      ],
      "metadata": {
        "id": "bA85dT81qflX"
      },
      "execution_count": null,
      "outputs": []
    },
    {
      "cell_type": "code",
      "source": [
        "company_reviews_df['industry'].unique()"
      ],
      "metadata": {
        "id": "NVg4uhDtVDK1"
      },
      "execution_count": null,
      "outputs": []
    },
    {
      "cell_type": "markdown",
      "source": [
        "Size of dataframe after processing:"
      ],
      "metadata": {
        "id": "928V6QOZVboK"
      }
    },
    {
      "cell_type": "code",
      "source": [
        "len(company_reviews_df)"
      ],
      "metadata": {
        "id": "HOuCPPR4CykL"
      },
      "execution_count": null,
      "outputs": []
    },
    {
      "cell_type": "code",
      "source": [
        "company_reviews_df.info()"
      ],
      "metadata": {
        "id": "6g4HsrQXNLmI"
      },
      "execution_count": null,
      "outputs": []
    },
    {
      "cell_type": "markdown",
      "source": [
        "### Attempt to merge"
      ],
      "metadata": {
        "id": "3XdACr0Gp6gG"
      }
    },
    {
      "cell_type": "code",
      "source": [
        "# merged_df = pd.merge(\n",
        "#     h1b_df, company_reviews_df, left_on=\"emp_name\", right_on='name', how=\"inner\", suffixes=('_left', '_right')\n",
        "# )"
      ],
      "metadata": {
        "id": "qD-uxxOYBXaq"
      },
      "execution_count": null,
      "outputs": []
    },
    {
      "cell_type": "code",
      "source": [
        "# len(merged_df)"
      ],
      "metadata": {
        "id": "vkBVz3rABceE"
      },
      "execution_count": null,
      "outputs": []
    },
    {
      "cell_type": "markdown",
      "source": [
        "## Explode Nested Fields for Main Datasets"
      ],
      "metadata": {
        "id": "CctXRZqerkdc"
      }
    },
    {
      "cell_type": "markdown",
      "source": [
        "Company reviews dataset"
      ],
      "metadata": {
        "id": "ALA-wX-2t4bF"
      }
    },
    {
      "cell_type": "code",
      "source": [
        "company_reviews_exploded_df = company_reviews_df.copy()"
      ],
      "metadata": {
        "id": "2Tj_o7n_ub95"
      },
      "execution_count": null,
      "outputs": []
    },
    {
      "cell_type": "code",
      "source": [
        "company_reviews_df['locations']"
      ],
      "metadata": {
        "id": "MlOS0pfDup1w"
      },
      "execution_count": null,
      "outputs": []
    },
    {
      "cell_type": "code",
      "source": [
        "company_reviews_df[company_reviews_df['name'] == 'google']"
      ],
      "metadata": {
        "id": "ieQEpbyRWmTQ"
      },
      "execution_count": null,
      "outputs": []
    },
    {
      "cell_type": "code",
      "source": [
        "company_reviews_exploded_df.loc[:, 'locations'] = company_reviews_df['locations'].apply(lambda x : re.findall(\"\\'([A-Za-z\\\\s]+),\\\\s([A-Z]{2})\\':\\\\s\", x))"
      ],
      "metadata": {
        "id": "84UnNFWqs0yl"
      },
      "execution_count": null,
      "outputs": []
    },
    {
      "cell_type": "code",
      "source": [
        "company_reviews_exploded_df = company_reviews_exploded_df.explode('locations')"
      ],
      "metadata": {
        "id": "ypuGnjYDv3_4"
      },
      "execution_count": null,
      "outputs": []
    },
    {
      "cell_type": "code",
      "source": [
        "company_reviews_exploded_df['locations']"
      ],
      "metadata": {
        "id": "2DNOpmk_v8MN"
      },
      "execution_count": null,
      "outputs": []
    },
    {
      "cell_type": "code",
      "source": [
        "re.findall(\"\\(\\'([A-Za-z\\\\s]+)\\',\\\\s\\'[A-Z]{2}\\'\\)\", \"('Scottsdale', 'AZ')\")[0]"
      ],
      "metadata": {
        "id": "nQlcTnn3wh_W"
      },
      "execution_count": null,
      "outputs": []
    },
    {
      "cell_type": "code",
      "source": [
        "company_reviews_exploded_df['city'] = company_reviews_exploded_df['locations'].apply(lambda x : re.findall(\"\\(\\'([A-Za-z\\\\s]+)\\',\\\\s\\'[A-Z]{2}\\'\\)\", str(x)))"
      ],
      "metadata": {
        "id": "P10u3k68wLTG"
      },
      "execution_count": null,
      "outputs": []
    },
    {
      "cell_type": "code",
      "source": [
        "company_reviews_exploded_df['city']"
      ],
      "metadata": {
        "id": "_sobWw4Ay0i4"
      },
      "execution_count": null,
      "outputs": []
    },
    {
      "cell_type": "code",
      "source": [
        "company_reviews_exploded_df.loc[:, 'city'] = company_reviews_exploded_df['city'].apply(lambda x : x[0] if len(x) > 0 else np.NaN)"
      ],
      "metadata": {
        "id": "XINuD55gy2Z1"
      },
      "execution_count": null,
      "outputs": []
    },
    {
      "cell_type": "code",
      "source": [
        "company_reviews_exploded_df['state'] = company_reviews_exploded_df['locations'].apply(lambda x : re.findall(\"\\(\\'[A-Za-z\\\\s]+\\',\\\\s\\'([A-Z]{2})\\'\\)\", str(x)))"
      ],
      "metadata": {
        "id": "QJZqLbJSxUB5"
      },
      "execution_count": null,
      "outputs": []
    },
    {
      "cell_type": "code",
      "source": [
        "company_reviews_exploded_df.loc[:, 'state']  = company_reviews_exploded_df['state'].apply(lambda x : x[0] if len(x) > 0 else np.NaN)"
      ],
      "metadata": {
        "id": "l517rEHGzA0U"
      },
      "execution_count": null,
      "outputs": []
    },
    {
      "cell_type": "code",
      "source": [
        "company_reviews_exploded_df = company_reviews_exploded_df.drop('locations', axis=1)"
      ],
      "metadata": {
        "id": "3_bOuvARzH5f"
      },
      "execution_count": null,
      "outputs": []
    },
    {
      "cell_type": "markdown",
      "source": [
        "## Split Into Tables"
      ],
      "metadata": {
        "id": "FnFR24x7nwio"
      }
    },
    {
      "cell_type": "code",
      "source": [
        "company_reviews_df.columns"
      ],
      "metadata": {
        "id": "gq7IeLgnnyZ-"
      },
      "execution_count": null,
      "outputs": []
    },
    {
      "cell_type": "markdown",
      "source": [
        "#### Industry"
      ],
      "metadata": {
        "id": "GQns3wu3V5b_"
      }
    },
    {
      "cell_type": "code",
      "source": [
        "industry_df = pd.DataFrame({\"industryId\": range(0, len(company_reviews_df['industry'].unique())), \n",
        "                            \"industry\": company_reviews_df['industry'].unique()})"
      ],
      "metadata": {
        "id": "b9n90uj4pEBA"
      },
      "execution_count": null,
      "outputs": []
    },
    {
      "cell_type": "code",
      "source": [
        "industry_df = industry_df[industry_df['industry'] != 'nan']"
      ],
      "metadata": {
        "id": "wOdxDnQ5Gqp6"
      },
      "execution_count": null,
      "outputs": []
    },
    {
      "cell_type": "code",
      "source": [
        "industry_df = industry_df.drop_duplicates().reset_index(drop=True)"
      ],
      "metadata": {
        "id": "nmZAyynQyJwl"
      },
      "execution_count": null,
      "outputs": []
    },
    {
      "cell_type": "code",
      "source": [
        "industry_df.dtypes"
      ],
      "metadata": {
        "id": "roXPJbTYoR_v"
      },
      "execution_count": null,
      "outputs": []
    },
    {
      "cell_type": "code",
      "source": [
        "industry_df.head(3)"
      ],
      "metadata": {
        "id": "VD0U9Mb4_jVM"
      },
      "execution_count": null,
      "outputs": []
    },
    {
      "cell_type": "markdown",
      "source": [
        "#### Location"
      ],
      "metadata": {
        "id": "GSBOqHm_V8W8"
      }
    },
    {
      "cell_type": "code",
      "source": [
        "h1b_df.columns"
      ],
      "metadata": {
        "id": "G2lN28dl4dW6"
      },
      "execution_count": null,
      "outputs": []
    },
    {
      "cell_type": "code",
      "source": [
        "h1b_df.loc[:, 'emp_city'] = h1b_df['emp_city'].apply(lambda x : x.split(\",\")[0])"
      ],
      "metadata": {
        "id": "HntudJRO5t54"
      },
      "execution_count": null,
      "outputs": []
    },
    {
      "cell_type": "code",
      "source": [
        "location_df = pd.DataFrame({ \"city\": h1b_df['emp_city'], \n",
        "                            \"state\": h1b_df['emp_state']})"
      ],
      "metadata": {
        "id": "Cl5OnRyDzeZi"
      },
      "execution_count": null,
      "outputs": []
    },
    {
      "cell_type": "code",
      "source": [
        "location_df = location_df.reset_index(drop=True)"
      ],
      "metadata": {
        "id": "2HHchNsRz9lT"
      },
      "execution_count": null,
      "outputs": []
    },
    {
      "cell_type": "code",
      "source": [
        "location_df = pd.concat([location_df, company_reviews_exploded_df[['city', 'state']]])"
      ],
      "metadata": {
        "id": "fQD1ne-B0eXA"
      },
      "execution_count": null,
      "outputs": []
    },
    {
      "cell_type": "code",
      "source": [
        "location_df = location_df.drop_duplicates(subset=['city', 'state']).reset_index(drop=True)"
      ],
      "metadata": {
        "id": "DbDX0YCg4jR6"
      },
      "execution_count": null,
      "outputs": []
    },
    {
      "cell_type": "code",
      "source": [
        "location_df = location_df.drop_duplicates(subset=['city', 'state']).reset_index(drop=True)"
      ],
      "metadata": {
        "id": "-8XovDXa_tfc"
      },
      "execution_count": null,
      "outputs": []
    },
    {
      "cell_type": "code",
      "source": [
        "location_df.insert(loc=0, column='locationId', value= range(0, len(location_df)))"
      ],
      "metadata": {
        "id": "9leV9RR12Ygs"
      },
      "execution_count": null,
      "outputs": []
    },
    {
      "cell_type": "code",
      "source": [
        "location_df.dtypes"
      ],
      "metadata": {
        "id": "0uUL1JoNojzb"
      },
      "execution_count": null,
      "outputs": []
    },
    {
      "cell_type": "markdown",
      "source": [
        "#### Job"
      ],
      "metadata": {
        "id": "rxrR6WjPWE-t"
      }
    },
    {
      "cell_type": "code",
      "source": [
        "job_df = pd.DataFrame({ \"title\": h1b_df['job_title'], \n",
        "                       \"fulltime\": h1b_df['full_time_position']})"
      ],
      "metadata": {
        "id": "mffW6pCN8w5v"
      },
      "execution_count": null,
      "outputs": []
    },
    {
      "cell_type": "code",
      "source": [
        "job_df = job_df.drop_duplicates(subset=['title', 'fulltime']).reset_index(drop=True)"
      ],
      "metadata": {
        "id": "xOIS_Ixi22hK"
      },
      "execution_count": null,
      "outputs": []
    },
    {
      "cell_type": "code",
      "source": [
        "job_df.insert(loc=0, column='jobId', value= range(0, len(job_df)))"
      ],
      "metadata": {
        "id": "NU1FpLkT2xOk"
      },
      "execution_count": null,
      "outputs": []
    },
    {
      "cell_type": "code",
      "source": [
        "job_df.dtypes"
      ],
      "metadata": {
        "id": "foGvLbAiosKK"
      },
      "execution_count": null,
      "outputs": []
    },
    {
      "cell_type": "markdown",
      "source": [
        "#### Company"
      ],
      "metadata": {
        "id": "mnCleq7fWHdN"
      }
    },
    {
      "cell_type": "code",
      "source": [
        "company_df = pd.DataFrame({ \"name\": company_reviews_exploded_df['name'], \n",
        "                            \"employeeSize\": company_reviews_exploded_df['employees'],\n",
        "                            \"industry\": company_reviews_exploded_df['industry']})"
      ],
      "metadata": {
        "id": "fLhN7O0H5SY6"
      },
      "execution_count": null,
      "outputs": []
    },
    {
      "cell_type": "code",
      "source": [
        "temp_df = h1b_df[['emp_name']].copy()"
      ],
      "metadata": {
        "id": "70XhaXa57Rof"
      },
      "execution_count": null,
      "outputs": []
    },
    {
      "cell_type": "code",
      "source": [
        "temp_df = temp_df.rename(columns={'emp_name': 'name'}).dropna()"
      ],
      "metadata": {
        "id": "UseUP7-X7U09"
      },
      "execution_count": null,
      "outputs": []
    },
    {
      "cell_type": "code",
      "source": [
        "company_df = pd.concat([company_df, temp_df]).drop_duplicates(subset=['name']).reset_index(drop=True)"
      ],
      "metadata": {
        "id": "cPUG_fI_8HGx"
      },
      "execution_count": null,
      "outputs": []
    },
    {
      "cell_type": "code",
      "source": [
        "company_df.insert(loc=0, column='companyId', value= range(0, len(company_df)))"
      ],
      "metadata": {
        "id": "XhIVaQI_BTWM"
      },
      "execution_count": null,
      "outputs": []
    },
    {
      "cell_type": "code",
      "source": [
        "industry_dict = {}\n",
        "for index, row in industry_df.iterrows():\n",
        "  industry_dict[row['industry']] = row['industryId']"
      ],
      "metadata": {
        "id": "ASmoVoE6FmCt"
      },
      "execution_count": null,
      "outputs": []
    },
    {
      "cell_type": "code",
      "source": [
        "company_df['industryId'] = company_df['industry'].apply(lambda x : industry_dict[str(x)] if str(x) != 'nan' else np.nan)"
      ],
      "metadata": {
        "id": "7tFXPrJhBZAW"
      },
      "execution_count": null,
      "outputs": []
    },
    {
      "cell_type": "code",
      "source": [
        "company_df['industryId'] = pd.Series(company_df['industryId']).astype('Int64')"
      ],
      "metadata": {
        "id": "gWazr9LPIcyG"
      },
      "execution_count": null,
      "outputs": []
    },
    {
      "cell_type": "code",
      "source": [
        "company_df['name'] = company_df['name'].astype('string') "
      ],
      "metadata": {
        "id": "56VmrHryy1CA"
      },
      "execution_count": null,
      "outputs": []
    },
    {
      "cell_type": "code",
      "source": [
        "company_df['employeeSize'] = company_df['employeeSize'].astype('string') "
      ],
      "metadata": {
        "id": "CfIQICmVy8Mv"
      },
      "execution_count": null,
      "outputs": []
    },
    {
      "cell_type": "code",
      "source": [
        "company_df['industry'] = company_df['industry'].astype('string') "
      ],
      "metadata": {
        "id": "g2k_xkTZzAPh"
      },
      "execution_count": null,
      "outputs": []
    },
    {
      "cell_type": "code",
      "source": [
        "company_df"
      ],
      "metadata": {
        "id": "IQ7rhWVQdZ9U"
      },
      "execution_count": null,
      "outputs": []
    },
    {
      "cell_type": "markdown",
      "source": [
        "#### Reviews"
      ],
      "metadata": {
        "id": "FqmUL1uAWPwD"
      }
    },
    {
      "cell_type": "code",
      "source": [
        "company_dict = {}\n",
        "for index, row in company_df[['name', 'companyId']].iterrows():\n",
        "  company_dict[row['name']] = row['companyId']"
      ],
      "metadata": {
        "id": "d8Y73p9PKpDl"
      },
      "execution_count": null,
      "outputs": []
    },
    {
      "cell_type": "code",
      "source": [
        "reviews_df = pd.DataFrame({ \"name\": company_reviews_exploded_df['name'], \n",
        "                            \"overallRating\": company_reviews_exploded_df['rating'],\n",
        "                            \"textReview\": company_reviews_exploded_df['description'],\n",
        "                            \"workLifeBalance\": company_reviews_exploded_df['ratings'].apply(lambda x : re.findall(\"\\'Work/Life Balance\\':\\\\s\\'([0-9\\.]+)'\", str(x))),\n",
        "                            \"compensationOrBenefits\": company_reviews_exploded_df['ratings'].apply(lambda x : re.findall(\"\\'Compensation/Benefits\\':\\\\s\\'([0-9\\.]+)'\", str(x))),\n",
        "                            \"jobSecurityOrAdvance\": company_reviews_exploded_df['ratings'].apply(lambda x : re.findall(\"\\'Job Security/Advancement\\':\\\\s\\'([0-9\\.]+)'\", str(x))),\n",
        "                            \"management\": company_reviews_exploded_df['ratings'].apply(lambda x : re.findall(\"\\'Management\\':\\\\s\\'([0-9\\.]+)'\", str(x))),\n",
        "                            \"culture\": company_reviews_exploded_df['ratings'].apply(lambda x : re.findall(\"\\'Culture\\':\\\\s\\'([0-9\\.]+)'\", str(x))),\n",
        "                            \"happiness\": company_reviews_exploded_df['happiness'].apply(lambda x : re.findall(\"\\'Work Happiness Score\\':\\\\s\\'([0-9\\.]+)'\", str(x))), \n",
        "                            \"numReviews\": company_reviews_exploded_df['reviews'].apply(lambda x : re.findall(\"([0-9]+)\\\\sreviews\", str(x)))})"
      ],
      "metadata": {
        "id": "_uK5359MKglJ"
      },
      "execution_count": null,
      "outputs": []
    },
    {
      "cell_type": "code",
      "source": [
        "ratings_cols = ['workLifeBalance', 'compensationOrBenefits', 'jobSecurityOrAdvance', 'management', 'culture', 'happiness', 'numReviews']\n",
        "for col in ratings_cols:\n",
        "  reviews_df.loc[:, col] = reviews_df[col].apply(lambda x : x[0] if len(x) > 0 else np.NaN)"
      ],
      "metadata": {
        "id": "c2RrxB_yaG2-"
      },
      "execution_count": null,
      "outputs": []
    },
    {
      "cell_type": "code",
      "source": [
        "reviews_df['companyId'] = reviews_df['name'].apply(lambda x : company_dict[str(x)] if str(x) != 'nan' else np.nan)"
      ],
      "metadata": {
        "id": "azqIsdTicEb-"
      },
      "execution_count": null,
      "outputs": []
    },
    {
      "cell_type": "code",
      "source": [
        "reviews_df['companyId'] = pd.Series(reviews_df['companyId']).astype('Int64')"
      ],
      "metadata": {
        "id": "ABYooJ_TI6IW"
      },
      "execution_count": null,
      "outputs": []
    },
    {
      "cell_type": "code",
      "source": [
        "reviews_df = reviews_df.drop(columns=['name'])"
      ],
      "metadata": {
        "id": "1gvY4jlYce3g"
      },
      "execution_count": null,
      "outputs": []
    },
    {
      "cell_type": "code",
      "source": [
        "reviews_df.insert(loc=0, column='reviewId', value= range(0, len(reviews_df)))"
      ],
      "metadata": {
        "id": "WjJfuKVZckft"
      },
      "execution_count": null,
      "outputs": []
    },
    {
      "cell_type": "code",
      "source": [
        "reviews_df.head(3)"
      ],
      "metadata": {
        "id": "8AYXG4NtUf3w"
      },
      "execution_count": null,
      "outputs": []
    },
    {
      "cell_type": "code",
      "source": [
        "reviews_df.dtypes"
      ],
      "metadata": {
        "id": "kfPH6YHapeZE"
      },
      "execution_count": null,
      "outputs": []
    },
    {
      "cell_type": "markdown",
      "source": [
        "#### InterviewReview"
      ],
      "metadata": {
        "id": "aQ-_6FjNWTAs"
      }
    },
    {
      "cell_type": "code",
      "source": [
        "def mapInterviewDurationToTime(duration_str):\n",
        "  if duration_str == 'About a day or two':\n",
        "    return 2\n",
        "  elif duration_str == 'About a week':\n",
        "    return 7\n",
        "  elif duration_str == 'About two weeks':\n",
        "    return 14\n",
        "  elif duration_str == 'About a month':\n",
        "    return 10\n",
        "  elif duration_str == 'More than one month':\n",
        "    return 60\n",
        "  else:\n",
        "    return np.NaN"
      ],
      "metadata": {
        "id": "-fBhM7SxeLmF"
      },
      "execution_count": null,
      "outputs": []
    },
    {
      "cell_type": "code",
      "source": [
        "company_reviews_exploded_df.loc[:, 'interview_duration'] = company_reviews_exploded_df['interview_duration'].apply(lambda x : mapInterviewDurationToTime(x))"
      ],
      "metadata": {
        "id": "_3KOydXgfL0K"
      },
      "execution_count": null,
      "outputs": []
    },
    {
      "cell_type": "code",
      "source": [
        "interviewReview_df = pd.DataFrame({ \"name\": company_reviews_exploded_df['name'], \n",
        "                                    \"timeline(days)\": company_reviews_exploded_df['interview_duration'],\n",
        "                                    \"experience\": company_reviews_exploded_df['interview_experience'],\n",
        "                                    \"difficulty\": company_reviews_exploded_df['interview_difficulty']})"
      ],
      "metadata": {
        "id": "1c505HviT6fB"
      },
      "execution_count": null,
      "outputs": []
    },
    {
      "cell_type": "code",
      "source": [
        "interviewReview_df['companyId'] = interviewReview_df['name'].apply(lambda x : company_dict[str(x)] if str(x) != 'nan' else np.nan)"
      ],
      "metadata": {
        "id": "ifnjgKX6dC4g"
      },
      "execution_count": null,
      "outputs": []
    },
    {
      "cell_type": "code",
      "source": [
        "interviewReview_df['companyId'] = pd.Series(interviewReview_df['companyId']).astype('Int64')"
      ],
      "metadata": {
        "id": "igaBc_xbJAJb"
      },
      "execution_count": null,
      "outputs": []
    },
    {
      "cell_type": "code",
      "source": [
        "interviewReview_df = interviewReview_df.drop(columns=['name'])"
      ],
      "metadata": {
        "id": "qz23kmAjgYKn"
      },
      "execution_count": null,
      "outputs": []
    },
    {
      "cell_type": "code",
      "source": [
        "interviewReview_df.insert(loc=0, column='interviewReviewId', value= range(0, len(interviewReview_df)))"
      ],
      "metadata": {
        "id": "K4sbdRoigQB9"
      },
      "execution_count": null,
      "outputs": []
    },
    {
      "cell_type": "code",
      "source": [
        "interviewReview_df.dtypes"
      ],
      "metadata": {
        "id": "6fZJBAPdqQ1b"
      },
      "execution_count": null,
      "outputs": []
    },
    {
      "cell_type": "markdown",
      "source": [
        "#### H1BCase"
      ],
      "metadata": {
        "id": "oreerVPwWVDB"
      }
    },
    {
      "cell_type": "code",
      "source": [
        "job_df"
      ],
      "metadata": {
        "id": "Lqu0DYQLhbGE"
      },
      "execution_count": null,
      "outputs": []
    },
    {
      "cell_type": "code",
      "source": [
        "job_dict = {}\n",
        "for index, row in job_df.iterrows():\n",
        "  job_dict[(row['title'], row['fulltime'])] = row['jobId']"
      ],
      "metadata": {
        "id": "8pi9u2vYhYbm"
      },
      "execution_count": null,
      "outputs": []
    },
    {
      "cell_type": "code",
      "source": [
        "h1b_df"
      ],
      "metadata": {
        "id": "F_G8t2iBg_ik"
      },
      "execution_count": null,
      "outputs": []
    },
    {
      "cell_type": "code",
      "source": [
        "h1bCase_df = pd.DataFrame({ \"emp_name\": h1b_df['emp_name'], \n",
        "                            \"job_title\": h1b_df['job_title'],\n",
        "                           'fulltime': h1b_df['full_time_position'],\n",
        "                            \"caseStatus\": h1b_df['case_status'],\n",
        "                            \"caseYear\": h1b_df['case_year'], \n",
        "                            \"submitDate\": h1b_df['case_submitted'],\n",
        "                            \"decisionDate\": h1b_df['decision_date'],\n",
        "                            \"wageFrom\": h1b_df['wage_from'],\n",
        "                           })"
      ],
      "metadata": {
        "id": "GWqLhH2_hA54"
      },
      "execution_count": null,
      "outputs": []
    },
    {
      "cell_type": "code",
      "source": [
        "h1bCase_df['companyId'] = h1bCase_df['emp_name'].apply(lambda x : company_dict[str(x)] if str(x) != 'nan' else np.nan)"
      ],
      "metadata": {
        "id": "URucRMAFjBTj"
      },
      "execution_count": null,
      "outputs": []
    },
    {
      "cell_type": "code",
      "source": [
        "h1bCase_df['companyId'] = pd.Series(h1bCase_df['companyId']).astype('Int64')"
      ],
      "metadata": {
        "id": "XOIrfrWOJDs5"
      },
      "execution_count": null,
      "outputs": []
    },
    {
      "cell_type": "code",
      "source": [
        "h1bCase_df['jobId'] = h1bCase_df.apply(lambda x : (job_dict[(x['job_title'], x['fulltime'])]), axis=1)"
      ],
      "metadata": {
        "id": "yb-uoNJ8ji5N"
      },
      "execution_count": null,
      "outputs": []
    },
    {
      "cell_type": "code",
      "source": [
        "h1bCase_df.insert(loc=0, column='h1bCaseId', value= range(0, len(h1bCase_df)))"
      ],
      "metadata": {
        "id": "tzwljxuN-5Tu"
      },
      "execution_count": null,
      "outputs": []
    },
    {
      "cell_type": "code",
      "source": [
        "h1bCase_df.dtypes"
      ],
      "metadata": {
        "id": "W3YoKfTYa9_k"
      },
      "execution_count": null,
      "outputs": []
    },
    {
      "cell_type": "markdown",
      "source": [
        "#### HasRole"
      ],
      "metadata": {
        "id": "pTzRJVx7WKoE"
      }
    },
    {
      "cell_type": "code",
      "source": [
        "hasRole_df = pd.DataFrame({\"company\": h1b_df['emp_name'], \n",
        "                           \"city\": h1b_df['emp_city'],\n",
        "                            \"state\": h1b_df['emp_state'],\n",
        "                            \"job_title\": h1b_df['job_title'], \n",
        "                            \"fulltime\": h1b_df['full_time_position']})"
      ],
      "metadata": {
        "id": "aRQSI3fw7lts"
      },
      "execution_count": null,
      "outputs": []
    },
    {
      "cell_type": "code",
      "source": [
        "location_df"
      ],
      "metadata": {
        "id": "P3qUobNc9mup"
      },
      "execution_count": null,
      "outputs": []
    },
    {
      "cell_type": "code",
      "source": [
        "location_dict = {}\n",
        "for index, row in location_df.iterrows():\n",
        "  location_dict[(row['city'], row['state'])] = row['locationId']"
      ],
      "metadata": {
        "id": "4GX2gG5y9ZDY"
      },
      "execution_count": null,
      "outputs": []
    },
    {
      "cell_type": "code",
      "source": [
        "hasRole_df['locationId'] = hasRole_df.apply(lambda x : (location_dict[(x['city'], x['state'])]), axis=1)"
      ],
      "metadata": {
        "id": "e9b10Xuu9JVM"
      },
      "execution_count": null,
      "outputs": []
    },
    {
      "cell_type": "code",
      "source": [
        "hasRole_df['jobId'] = hasRole_df.apply(lambda x : (job_dict[(x['job_title'], x['fulltime'])]), axis=1)"
      ],
      "metadata": {
        "id": "RAqtZarK98VY"
      },
      "execution_count": null,
      "outputs": []
    },
    {
      "cell_type": "code",
      "source": [
        "hasRole_df['companyId'] = hasRole_df['company'].apply(lambda x : company_dict[x])"
      ],
      "metadata": {
        "id": "QNmy6aS_-FDA"
      },
      "execution_count": null,
      "outputs": []
    },
    {
      "cell_type": "code",
      "source": [
        "hasRole_df = hasRole_df.drop(columns=['company', 'city', 'state', 'job_title', 'fulltime'])"
      ],
      "metadata": {
        "id": "_mXbhU6y-sBm"
      },
      "execution_count": null,
      "outputs": []
    },
    {
      "cell_type": "code",
      "source": [
        "hasRole_df = hasRole_df.drop_duplicates(subset=['locationId', 'jobId', 'companyId']).reset_index(drop=True)"
      ],
      "metadata": {
        "id": "N3ULSehv_34I"
      },
      "execution_count": null,
      "outputs": []
    },
    {
      "cell_type": "code",
      "source": [
        "hasRole_df.insert(loc=0, column='hasRoleId', value= range(0, len(hasRole_df)))"
      ],
      "metadata": {
        "id": "-wMksUu6_BNh"
      },
      "execution_count": null,
      "outputs": []
    },
    {
      "cell_type": "code",
      "source": [
        "hasRole_df.dtypes"
      ],
      "metadata": {
        "id": "mrEULu14pBOZ"
      },
      "execution_count": null,
      "outputs": []
    },
    {
      "cell_type": "markdown",
      "source": [
        "#### InterestedIn (not populated until have users...?)"
      ],
      "metadata": {
        "id": "xe2sPek1WNZD"
      }
    },
    {
      "cell_type": "markdown",
      "source": [
        "# Write Processed Dataset to Drive"
      ],
      "metadata": {
        "id": "W5vAMBEfUCY4"
      }
    },
    {
      "cell_type": "markdown",
      "source": [
        "**Uncomment and run ONLY IF you want to write to drive**\n"
      ],
      "metadata": {
        "id": "mhIb3pKuO5Sm"
      }
    },
    {
      "cell_type": "code",
      "source": [
        "# industry_df.to_csv('./drive/Shareddrives/550/datasets/updated_datasets/industry_df.csv')"
      ],
      "metadata": {
        "id": "E2uf81BfN_Ju"
      },
      "execution_count": null,
      "outputs": []
    },
    {
      "cell_type": "code",
      "source": [
        "# location_df.to_csv('./drive/Shareddrives/550/datasets/updated_datasets/location_df.csv')"
      ],
      "metadata": {
        "id": "a2ZCSkRvOAO3"
      },
      "execution_count": null,
      "outputs": []
    },
    {
      "cell_type": "code",
      "source": [
        "# job_df.to_csv('./drive/Shareddrives/550/datasets/updated_datasets/job_df.csv')"
      ],
      "metadata": {
        "id": "GOhhhbsWODJP"
      },
      "execution_count": null,
      "outputs": []
    },
    {
      "cell_type": "code",
      "source": [
        "# company_df.to_csv('./drive/Shareddrives/550/datasets/updated_datasets/company_df.csv')"
      ],
      "metadata": {
        "id": "FiSwR77HOFVx"
      },
      "execution_count": null,
      "outputs": []
    },
    {
      "cell_type": "code",
      "source": [
        "# reviews_df.to_csv('./drive/Shareddrives/550/datasets/updated_datasets/reviews_df.csv')"
      ],
      "metadata": {
        "id": "dQCnioH2OHZK"
      },
      "execution_count": null,
      "outputs": []
    },
    {
      "cell_type": "code",
      "source": [
        "# interviewReview_df.to_csv('./drive/Shareddrives/550/datasets/updated_datasets/interviewReview_df.csv')"
      ],
      "metadata": {
        "id": "vlJjfLCpOI5V"
      },
      "execution_count": null,
      "outputs": []
    },
    {
      "cell_type": "code",
      "source": [
        "# h1bCase_df.to_csv('./drive/Shareddrives/550/datasets/updated_datasets/h1bCase_df.csv')"
      ],
      "metadata": {
        "id": "VEor-6MiOLvs"
      },
      "execution_count": null,
      "outputs": []
    },
    {
      "cell_type": "code",
      "source": [
        "# hasRole_df.to_csv('./drive/Shareddrives/550/datasets/updated_datasets/hasRole_df.csv')"
      ],
      "metadata": {
        "id": "cQPifyCoOaeS"
      },
      "execution_count": null,
      "outputs": []
    },
    {
      "cell_type": "markdown",
      "source": [
        "#TODO: \n",
        "- Further string clean (to lower case, remove punctuation etc, and decide if it is necessary to calculate string similarity)"
      ],
      "metadata": {
        "id": "LMv0nEVPUFfB"
      }
    },
    {
      "cell_type": "markdown",
      "source": [
        "# Content below are outdated and needs to be modified"
      ],
      "metadata": {
        "id": "jGC2yJE6UBwG"
      }
    },
    {
      "cell_type": "markdown",
      "source": [
        "## Simple EDA"
      ],
      "metadata": {
        "id": "S65l9y4U_O2W"
      }
    },
    {
      "cell_type": "code",
      "source": [
        "def SimpleNumericAnalysis(df):\n",
        "  numeric_df = df.select_dtypes(include=[np.number])\n",
        "  print(\"Mean values analysis\")\n",
        "  print(numeric_df.apply(lambda col : col.mean()))\n",
        "  print(\"\\n\")\n",
        "  print(\"Standard deviation analysis\")\n",
        "  print(numeric_df.apply(lambda col : col.std()))\n",
        "  print(\"\\n\")"
      ],
      "metadata": {
        "id": "LnyVHTthAI5g"
      },
      "execution_count": null,
      "outputs": []
    },
    {
      "cell_type": "code",
      "source": [
        "def SimpleDbAnalysis(df):\n",
        "  print(\"Dataset column types:\\n\", df.dtypes)\n",
        "  print(\"\\n\")\n",
        "  SimpleNumericAnalysis(df)\n",
        "  print(\"Dataset size: \", len(df.index))"
      ],
      "metadata": {
        "id": "3Ls-dB-1Ce8a"
      },
      "execution_count": null,
      "outputs": []
    }
  ]
}